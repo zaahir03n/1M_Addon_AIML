{
 "cells": [
  {
   "cell_type": "markdown",
   "id": "f2d5f6eb",
   "metadata": {},
   "source": [
    "# Objective: \n",
    "Learn how to define ML problems correctly, choose the right approach,and connect business problems to data and ML goals.\n",
    "\n",
    "### 1. What is Problem Framing?\n",
    "ML success depends on asking the *right question*.\n",
    "Example: Are we predicting a number (regression) or a category (classification)?\n"
   ]
  },
  {
   "cell_type": "code",
   "execution_count": null,
   "id": "2bfd5e45",
   "metadata": {
    "vscode": {
     "languageId": "plaintext"
    }
   },
   "outputs": [],
   "source": [
    "# Let's look at examples and decide the ML type:\n",
    "\n",
    "examples = [\n",
    "    (\"Predict house price based on features\", \"?\"),\n",
    "    (\"Detect if an email is spam or not\", \"?\"),\n",
    "    (\"Group customers by shopping patterns\", \"?\"),\n",
    "    (\"Teach a robot to walk\", \"?\")\n",
    "]\n",
    "\n",
    "for problem, _ in examples:\n",
    "    print(problem)"
   ]
  },
  {
   "cell_type": "code",
   "execution_count": null,
   "id": "ccf2f218",
   "metadata": {
    "vscode": {
     "languageId": "plaintext"
    }
   },
   "outputs": [],
   "source": [
    "Example business problem: Reduce customer churn.\n",
    "\n",
    "# Step 1: Define Objective\n",
    "#     \"Predict if a customer will leave next month\"\n",
    "# Step 2: Identify Data\n",
    "#     Customer activity, payment history, support tickets\n",
    "# Step 3: Define Target Variable\n",
    "#     churn = 1 if customer left, else 0\n",
    "# Step 4: Choose ML Type\n",
    "#     Classification problem\n",
    "# Step 5: Define Evaluation Metric\n",
    "#     Accuracy? Precision? Recall?"
   ]
  },
  {
   "cell_type": "code",
   "execution_count": null,
   "id": "39f9b6af",
   "metadata": {
    "vscode": {
     "languageId": "plaintext"
    }
   },
   "outputs": [],
   "source": [
    "# Let's simulate a small churn dataset and see how framing works.\n",
    "\n",
    "import pandas as pd\n",
    "import numpy as np\n",
    "\n",
    "np.random.seed(42)\n",
    "\n",
    "# Create dummy churn data\n",
    "data = {\n",
    "    'monthly_spend': np.random.randint(20, 200, 20),\n",
    "    'months_active': np.random.randint(1, 24, 20),\n",
    "    'support_calls': np.random.randint(0, 10, 20),\n",
    "    'churned': np.random.choice([0, 1], size=20)\n",
    "}\n",
    "df = pd.DataFrame(data)\n",
    "df.head()\n",
    "\n",
    "# ## 3. Identify Inputs (Features) and Output (Label)\n",
    "\n",
    "X = df[['monthly_spend', 'months_active', 'support_calls']]\n",
    "y = df['churned']\n",
    "\n",
    "print(\"Features (X):\", list(X.columns))\n",
    "print(\"Label (y): churned\")\n"
   ]
  },
  {
   "cell_type": "code",
   "execution_count": null,
   "id": "cb504ace",
   "metadata": {
    "vscode": {
     "languageId": "plaintext"
    }
   },
   "outputs": [],
   "source": [
    "# ## 4. Choose ML Category\n",
    "# We have labels (0 or 1) → Classification Problem.\n",
    "\n",
    "# Let's train a quick model to validate framing.\n",
    "\n",
    "from sklearn.model_selection import train_test_split\n",
    "from sklearn.linear_model import LogisticRegression\n",
    "\n",
    "X_train, X_test, y_train, y_test = train_test_split(X, y, test_size=0.2, random_state=42)\n",
    "\n",
    "model = LogisticRegression()\n",
    "model.fit(X_train, y_train)\n",
    "\n",
    "print(\"Training accuracy:\", model.score(X_train, y_train))\n",
    "print(\"Testing accuracy:\", model.score(X_test, y_test))\n",
    "\n",
    "# ## 5. Feature-Target Relationship Visualization\n",
    "import matplotlib.pyplot as plt\n",
    "plt.scatter(df['months_active'], df['monthly_spend'], c=df['churned'], cmap='cool')\n",
    "plt.xlabel('Months Active')\n",
    "plt.ylabel('Monthly Spend ($)')\n",
    "plt.title('Customer Churn Visualization')\n",
    "plt.show()\n",
    "\n",
    "# ## 6. Reframing the Problem\n",
    "# Can the same dataset be used for other ML goals?\n",
    "# Examples:\n",
    "# - Predict expected monthly spend (Regression)\n",
    "# - Cluster customers by usage pattern (Unsupervised)\n",
    "# - Recommend retention actions (Reinforcement Learning)\n"
   ]
  },
  {
   "cell_type": "code",
   "execution_count": null,
   "id": "8f89a3fe",
   "metadata": {
    "vscode": {
     "languageId": "plaintext"
    }
   },
   "outputs": [],
   "source": [
    "# Quick unsupervised demo: Cluster customers\n",
    "from sklearn.cluster import KMeans\n",
    "\n",
    "kmeans = KMeans(n_clusters=2, random_state=42)\n",
    "kmeans.fit(X)\n",
    "plt.scatter(df['monthly_spend'], df['months_active'], c=kmeans.labels_, cmap='Set1')\n",
    "plt.xlabel('Monthly Spend')\n",
    "plt.ylabel('Months Active')\n",
    "plt.title('Customer Segments via Clustering')\n",
    "plt.show()\n",
    "\n",
    "# ## 7. Evaluation Metric Choice\n",
    "# Let's compare Accuracy vs Recall for churn problem.\n",
    "\n",
    "from sklearn.metrics import accuracy_score, recall_score, confusion_matrix, ConfusionMatrixDisplay\n",
    "\n",
    "y_pred = model.predict(X_test)\n",
    "\n",
    "print(\"Accuracy:\", accuracy_score(y_test, y_pred))\n",
    "print(\"Recall:\", recall_score(y_test, y_pred))\n",
    "ConfusionMatrixDisplay.from_estimator(model, X_test, y_test)\n",
    "plt.show()"
   ]
  },
  {
   "cell_type": "code",
   "execution_count": null,
   "id": "9864a7ef",
   "metadata": {
    "vscode": {
     "languageId": "plaintext"
    }
   },
   "outputs": [],
   "source": [
    "# - If missing a churned customer is costly → Recall is more important.\n",
    "# - If false alarms annoy customers → Precision matters more.\n",
    "\n"
   ]
  },
  {
   "cell_type": "code",
   "execution_count": null,
   "id": "82edeca5",
   "metadata": {
    "vscode": {
     "languageId": "plaintext"
    }
   },
   "outputs": [],
   "source": [
    "# ## 8. Recap\n",
    "# Problem framing = Translating goals → ML-ready formulation.\n",
    "# Steps:\n",
    "# 1. Define objective\n",
    "# 2. Identify data\n",
    "# 3. Choose target variable\n",
    "# 4. Select ML type\n",
    "# 5. Pick evaluation metric\n",
    "# 6. Validate assumptions\n"
   ]
  },
  {
   "cell_type": "markdown",
   "id": "49712e0f",
   "metadata": {},
   "source": []
  },
  {
   "cell_type": "code",
   "execution_count": null,
   "id": "dbb168ff",
   "metadata": {
    "vscode": {
     "languageId": "plaintext"
    }
   },
   "outputs": [],
   "source": []
  },
  {
   "cell_type": "markdown",
   "id": "fecae86c",
   "metadata": {},
   "source": []
  }
 ],
 "metadata": {
  "language_info": {
   "name": "python"
  }
 },
 "nbformat": 4,
 "nbformat_minor": 5
}
