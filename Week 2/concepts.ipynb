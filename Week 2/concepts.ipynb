{
 "cells": [
  {
   "cell_type": "code",
   "execution_count": null,
   "id": "3f235264",
   "metadata": {},
   "outputs": [
    {
     "data": {
      "image/png": "[encoded data removed]",
      "text/plain": [
       "<Figure size 640x480 with 1 Axes>"
      ]
     },
     "metadata": {},
     "output_type": "display_data"
    }
   ],
   "source": [
    "import pandas as pd\n",
    "import matplotlib.pyplot as plt\n",
    "\n",
    "# Tiny dataset: Years of Experience vs Salary\n",
    "data = {'YearsExperience': [1, 2, 3, 4, 5, 6],\n",
    "        'Salary': [35, 40, 50, 60, 70, 80]}\n",
    "df = pd.DataFrame(data)\n",
    "df\n",
    "\n",
    "# Visualize\n",
    "plt.scatter(df['YearsExperience'], df['Salary'])\n",
    "plt.xlabel(\"Years of Experience\")\n",
    "plt.ylabel(\"Salary (k$)\")\n",
    "plt.title(\"Experience vs Salary\")\n",
    "plt.show()\n"
   ]
  },
  {
   "cell_type": "code",
   "execution_count": null,
   "id": "bcabadf0",
   "metadata": {},
   "outputs": [],
   "source": [
    "# Rule-based approach\n",
    "def predict_salary_manual(years):\n",
    "    return 30 + years * 8\n",
    "\n",
    "for x in [2, 5]:\n",
    "    print(f\"Manual rule: {x} yrs -> ${predict_salary_manual(x)}k\")\n"
   ]
  },
  {
   "cell_type": "code",
   "execution_count": null,
   "id": "c64608db",
   "metadata": {},
   "outputs": [],
   "source": [
    "# ML approach\n",
    "from sklearn.linear_model import LinearRegression\n",
    "\n",
    "X = df[['YearsExperience']]\n",
    "y = df['Salary']\n",
    "model = LinearRegression()\n",
    "model.fit(X, y)\n",
    "\n",
    "print(\"\\nLearned Coefficient:\", model.coef_[0])\n",
    "print(\"Learned Intercept:\", model.intercept_)\n",
    "\n",
    "# Predict a new value\n",
    "new_exp = [[7]]\n",
    "print(f\"Predicted Salary for 7 years experience: ${model.predict(new_exp)[0]:.2f}k\")\n"
   ]
  },
  {
   "cell_type": "code",
   "execution_count": null,
   "id": "469d65f6",
   "metadata": {},
   "outputs": [],
   "source": [
    "from sklearn.cluster import KMeans\n",
    "import numpy as np\n",
    "\n",
    "X = np.array([[15,39],[16,81],[17,6],[18,77],[19,40],[20,76]])\n",
    "plt.scatter(X[:,0], X[:,1])\n",
    "plt.xlabel(\"Annual Income (k$)\")\n",
    "plt.ylabel(\"Spending Score\")\n",
    "plt.title(\"Customers before Clustering\")\n",
    "plt.show()\n",
    "\n",
    "# Apply KMeans\n",
    "kmeans = KMeans(n_clusters=2, random_state=42)\n",
    "kmeans.fit(X)\n",
    "plt.scatter(X[:,0], X[:,1], c=kmeans.labels_, cmap='cool')\n",
    "plt.title(\"Customer Groups after Clustering\")\n",
    "plt.show()"
   ]
  },
  {
   "cell_type": "code",
   "execution_count": null,
   "id": "d3ae6782",
   "metadata": {},
   "outputs": [],
   "source": [
    "from sklearn.datasets import load_iris\n",
    "from sklearn.model_selection import train_test_split\n",
    "\n",
    "iris = load_iris(as_frame=True)\n",
    "df = iris.frame\n",
    "\n",
    "X = df[iris.feature_names]\n",
    "y = df['target']\n",
    "\n",
    "X_train, X_test, y_train, y_test = train_test_split(X, y, test_size=0.2, random_state=42)\n",
    "print(f\"Training samples: {len(X_train)}, Testing samples: {len(X_test)}\")\n"
   ]
  },
  {
   "cell_type": "code",
   "execution_count": null,
   "id": "89ca163b",
   "metadata": {},
   "outputs": [],
   "source": [
    "from sklearn.tree import DecisionTreeClassifier\n",
    "\n",
    "train_acc, test_acc = [], []\n",
    "for d in range(1, 10):\n",
    "    clf = DecisionTreeClassifier(max_depth=d, random_state=42)\n",
    "    clf.fit(X_train, y_train)\n",
    "    train_acc.append(clf.score(X_train, y_train))\n",
    "    test_acc.append(clf.score(X_test, y_test))\n",
    "\n",
    "plt.plot(range(1,10), train_acc, label='Train Accuracy')\n",
    "plt.plot(range(1,10), test_acc, label='Test Accuracy')\n",
    "plt.xlabel('Tree Depth'); plt.ylabel('Accuracy'); plt.legend()\n",
    "plt.show()"
   ]
  },
  {
   "cell_type": "code",
   "execution_count": null,
   "id": "21963cf1",
   "metadata": {},
   "outputs": [],
   "source": [
    "clf = DecisionTreeClassifier(max_depth=3, random_state=42)\n",
    "clf.fit(X_train, y_train)\n",
    "y_pred = clf.predict(X_test)\n",
    "\n",
    "### Model Evaluation\n",
    "from sklearn.metrics import accuracy_score, confusion_matrix, ConfusionMatrixDisplay\n",
    "\n",
    "print(\"Accuracy:\", accuracy_score(y_test, y_pred))\n",
    "ConfusionMatrixDisplay.from_estimator(clf, X_test, y_test)\n",
    "plt.show()"
   ]
  },
  {
   "cell_type": "markdown",
   "id": "1aaa250b",
   "metadata": {},
   "source": []
  }
 ],
 "metadata": {
  "kernelspec": {
   "display_name": "Python 3",
   "language": "python",
   "name": "python3"
  },
  "language_info": {
   "codemirror_mode": {
    "name": "ipython",
    "version": 3
   },
   "file_extension": ".py",
   "mimetype": "text/x-python",
   "name": "python",
   "nbconvert_exporter": "python",
   "pygments_lexer": "ipython3",
   "version": "3.10.0"
  }
 },
 "nbformat": 4,
 "nbformat_minor": 5
}
