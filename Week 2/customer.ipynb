{
 "cells": [
  {
   "cell_type": "code",
   "execution_count": null,
   "id": "72d6820c",
   "metadata": {},
   "outputs": [],
   "source": [
    "# ##Customer Segmentation + Sales Prediction\n",
    "# In this project, we’ll use unsupervised learning to group customers (segmentation)\n",
    "# and supervised learning to predict their future spending (sales prediction).\n",
    "\n",
    "import numpy as np\n",
    "\n",
    "# Step 1: Create synthetic customer data\n",
    "np.random.seed(42)\n",
    "customer_data = pd.DataFrame({\n",
    "    'CustomerID': range(1, 51),\n",
    "    'Age': np.random.randint(18, 65, 50),\n",
    "    'Annual_Income': np.random.randint(20000, 100000, 50),\n",
    "    'Spending_Score': np.random.randint(1, 100, 50)\n",
    "})\n",
    "\n",
    "print(customer_data.head())\n",
    "\n",
    "# Step 2: Apply K-Means clustering to segment customers\n",
    "X = customer_data[['Age', 'Annual_Income', 'Spending_Score']]\n",
    "\n",
    "kmeans = KMeans(n_clusters=4, random_state=42)\n",
    "customer_data['Cluster'] = kmeans.fit_predict(X)\n",
    "\n",
    "plt.scatter(customer_data['Annual_Income'], customer_data['Spending_Score'], c=customer_data['Cluster'], cmap='Set2')\n",
    "plt.xlabel('Annual Income')\n",
    "plt.ylabel('Spending Score')\n",
    "plt.title('Customer Segments by Income and Spending')\n",
    "plt.show()\n",
    "\n",
    "# Step 3: Analyze clusters\n",
    "print(customer_data.groupby('Cluster')[['Age', 'Annual_Income', 'Spending_Score']].mean())\n",
    "\n",
    "# Step 4: Add a synthetic 'Future_Purchase' target for supervised learning\n",
    "customer_data['Future_Purchase'] = customer_data['Spending_Score'] * 50 + np.random.randint(-500, 500, 50)\n",
    "\n",
    "# Step 5: Train a regression model to predict future purchase value\n",
    "X = customer_data[['Age', 'Annual_Income', 'Spending_Score']]\n",
    "y = customer_data['Future_Purchase']\n",
    "\n",
    "X_train, X_test, y_train, y_test = train_test_split(X, y, test_size=0.2, random_state=42)\n",
    "\n",
    "model = LinearRegression()\n",
    "model.fit(X_train, y_train)\n",
    "y_pred = model.predict(X_test)\n",
    "\n",
    "plt.scatter(y_test, y_pred)\n",
    "plt.xlabel('Actual Future Purchase')\n",
    "plt.ylabel('Predicted Future Purchase')\n",
    "plt.title('Supervised Learning: Sales Prediction')\n",
    "plt.show()\n",
    "\n",
    "print('R^2 Score:', model.score(X_test, y_test))"
   ]
  },
  {
   "cell_type": "code",
   "execution_count": null,
   "id": "e87b77c4",
   "metadata": {},
   "outputs": [],
   "source": [
    "# - **Unsupervised Phase:** Grouped customers into meaningful clusters based on income and spending behavior.\n",
    "# - **Supervised Phase:** Built a regression model to predict their future purchase potential.\n",
    "# - This is how ML is used in businesses: segmentation first, prediction second.\n"
   ]
  }
 ],
 "metadata": {
  "language_info": {
   "name": "python"
  }
 },
 "nbformat": 4,
 "nbformat_minor": 5
}
