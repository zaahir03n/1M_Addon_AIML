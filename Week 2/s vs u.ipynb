{
 "cells": [
  {
   "cell_type": "code",
   "execution_count": null,
   "id": "096dacb5",
   "metadata": {},
   "outputs": [],
   "source": [
    "# - **Supervised Learning:** Learn from labeled data (input features + target output). Used for prediction.\n",
    "# - **Unsupervised Learning:** Learn from unlabeled data. Used for grouping or pattern discovery.\n"
   ]
  },
  {
   "cell_type": "code",
   "execution_count": null,
   "id": "ad4db1db",
   "metadata": {},
   "outputs": [],
   "source": [
    "#Supervised Learning — Regression Example\n",
    "\n",
    "import pandas as pd\n",
    "import matplotlib.pyplot as plt\n",
    "from sklearn.model_selection import train_test_split\n",
    "from sklearn.linear_model import LinearRegression\n",
    "\n",
    "# Create a simple dataset\n",
    "data = {\n",
    "    'Area_sqft': [1000, 1200, 1500, 1800, 2000, 2200, 2500, 2800, 3000, 3200],\n",
    "    'Price': [100, 115, 150, 180, 200, 220, 250, 280, 300, 320]\n",
    "}\n",
    "df = pd.DataFrame(data)\n",
    "\n",
    "plt.scatter(df['Area_sqft'], df['Price'])\n",
    "plt.xlabel('Area (sqft)')\n",
    "plt.ylabel('Price (k$)')\n",
    "plt.title('Area vs Price')\n",
    "plt.show()\n",
    "\n",
    "X = df[['Area_sqft']]\n",
    "y = df['Price']\n",
    "X_train, X_test, y_train, y_test = train_test_split(X, y, test_size=0.2, random_state=42)\n",
    "\n",
    "model = LinearRegression()\n",
    "model.fit(X_train, y_train)\n",
    "pred = model.predict(X_test)\n",
    "\n",
    "plt.scatter(X_test, y_test, color='blue', label='Actual')\n",
    "plt.scatter(X_test, pred, color='red', label='Predicted')\n",
    "plt.xlabel('Area (sqft)')\n",
    "plt.ylabel('Price (k$)')\n",
    "plt.title('Supervised Learning: Regression Example')\n",
    "plt.legend()\n",
    "plt.show()\n",
    "\n",
    "print('Model Coefficient:', model.coef_[0])\n",
    "print('Intercept:', model.intercept_)\n",
    "print('R^2 Score on Test Data:', model.score(X_test, y_test))\n"
   ]
  },
  {
   "cell_type": "code",
   "execution_count": null,
   "id": "b8c1970d",
   "metadata": {},
   "outputs": [],
   "source": [
    "#Unsupervised Learning — Clustering Example\n",
    "\n",
    "from sklearn.datasets import make_blobs\n",
    "from sklearn.cluster import KMeans\n",
    "\n",
    "X, y_true = make_blobs(n_samples=100, centers=3, cluster_std=1.2, random_state=42)\n",
    "\n",
    "plt.scatter(X[:, 0], X[:, 1])\n",
    "plt.title('Unsupervised Data: No Labels')\n",
    "plt.show()\n",
    "\n",
    "kmeans = KMeans(n_clusters=3, random_state=42)\n",
    "kmeans.fit(X)\n",
    "labels = kmeans.labels_\n",
    "\n",
    "plt.scatter(X[:, 0], X[:, 1], c=labels, cmap='Set2')\n",
    "plt.scatter(kmeans.cluster_centers_[:, 0], kmeans.cluster_centers_[:, 1], s=100, c='red', marker='X', label='Centroids')\n",
    "plt.title('K-Means Clustering Result')\n",
    "plt.legend()\n",
    "plt.show()\n"
   ]
  }
 ],
 "metadata": {
  "language_info": {
   "name": "python"
  }
 },
 "nbformat": 4,
 "nbformat_minor": 5
}
