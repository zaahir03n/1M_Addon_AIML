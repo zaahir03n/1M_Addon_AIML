{
 "cells": [
  {
   "cell_type": "markdown",
   "id": "985672d5",
   "metadata": {},
   "source": [
    "GOAL:\n",
    "To learn how Python reads, writes, and manages files.\n",
    "\n",
    "We’ll cover:\n",
    "* What file handling is  \n",
    "* Why it’s important  \n",
    "* How to open, read, write, and close files  \n",
    "* Modes (r, w, a, etc.)  \n",
    "* Using 'with' statement for safe handling  \n"
   ]
  },
  {
   "cell_type": "markdown",
   "id": "c9bbecfb",
   "metadata": {},
   "source": [
    "---"
   ]
  },
  {
   "cell_type": "markdown",
   "id": "b3c28e73",
   "metadata": {},
   "source": [
    "File handling means working with files — opening, reading, writing, and closing them using Python.\n",
    "\n",
    "why:\n",
    "- Store data permanently (unlike variables which disappear when program ends).\n",
    "- Save logs, outputs, user inputs, or results.\n",
    "- Read data from files for processing (e.g., CSV, text, logs).\n",
    "\n",
    "\n",
    "Use Python’s built-in 'open()' function."
   ]
  },
  {
   "cell_type": "code",
   "execution_count": null,
   "id": "39d81bd8",
   "metadata": {},
   "outputs": [],
   "source": [
    "# Syntax: open(filename, mode)\n",
    "# mode = 'r' → read, 'w' → write, 'a' → append, 'x' → create new\n",
    "\n",
    "file = open(\"example.txt\", \"w\")\n",
    "file.write(\"Hello, world!\")\n",
    "file.close()\n",
    "print(\"File written successfully!\")"
   ]
  },
  {
   "cell_type": "code",
   "execution_count": null,
   "id": "20dd862c",
   "metadata": {},
   "outputs": [],
   "source": [
    "# Writing first so we can read it\n",
    "with open(\"example.txt\", \"w\") as f:\n",
    "    f.write(\"Python is amazing!\\nLearning file handling.\\nLet's read this file.\")\n",
    "\n",
    "# Now reading\n",
    "file = open(\"example.txt\", \"r\")\n",
    "content = file.read()\n",
    "file.close()\n",
    "\n",
    "print(\"File content:\\n\", content)"
   ]
  },
  {
   "cell_type": "code",
   "execution_count": null,
   "id": "c02b1170",
   "metadata": {},
   "outputs": [],
   "source": [
    "with open(\"example.txt\", \"r\") as f:\n",
    "    print(\"Using read():\")\n",
    "    print(f.read())"
   ]
  },
  {
   "cell_type": "code",
   "execution_count": null,
   "id": "e57e0402",
   "metadata": {},
   "outputs": [],
   "source": [
    "with open(\"example.txt\", \"r\") as f:\n",
    "    print(\"\\nUsing readline():\")\n",
    "    print(f.readline())   # Reads one line\n",
    "    print(f.readline())"
   ]
  },
  {
   "cell_type": "code",
   "execution_count": null,
   "id": "aa73bcce",
   "metadata": {},
   "outputs": [],
   "source": [
    "with open(\"example.txt\", \"r\") as f:\n",
    "    print(\"\\nUsing readlines():\")\n",
    "    print(f.readlines())  # Returns list of lines"
   ]
  },
  {
   "cell_type": "code",
   "execution_count": null,
   "id": "b25e8d0b",
   "metadata": {},
   "outputs": [],
   "source": [
    "# 'w' mode overwrites file if it exists\n",
    "with open(\"data.txt\", \"w\") as f:\n",
    "    f.write(\"First line.\\n\")\n",
    "    f.write(\"Second line.\\n\")"
   ]
  },
  {
   "cell_type": "code",
   "execution_count": null,
   "id": "47444698",
   "metadata": {},
   "outputs": [],
   "source": [
    "# a: append\n",
    "# 'a' mode adds content to existing file\n",
    "with open(\"data.txt\", \"a\") as f:\n",
    "    f.write(\"Third line (appended).\\n\")"
   ]
  },
  {
   "cell_type": "code",
   "execution_count": null,
   "id": "e133959e",
   "metadata": {},
   "outputs": [],
   "source": [
    "with open(\"data.txt\", \"r\") as f:\n",
    "    print(f.read())"
   ]
  },
  {
   "cell_type": "code",
   "execution_count": null,
   "id": "777b30a4",
   "metadata": {},
   "outputs": [],
   "source": [
    "# Opening a file but NOT closing it manually\n",
    "file = open(\"sample.txt\", \"w\")\n",
    "file.write(\"This file is left open!\")\n",
    "\n",
    "# We forgot to close it!\n",
    "# file.close()  Missing!\n",
    "\n",
    "print(\"File written but not closed.\")\n"
   ]
  },
  {
   "cell_type": "code",
   "execution_count": null,
   "id": "1f8f5ad9",
   "metadata": {},
   "outputs": [],
   "source": [
    "# Correct approach\n",
    "file = open(\"sample.txt\", \"w\")\n",
    "file.write(\"This file will be closed properly.\")\n",
    "file.close()   # Always close when done!\n",
    "\n",
    "print(\"File closed successfully.\")\n",
    "# This ensures all data is flushed to disk and resources are freed."
   ]
  },
  {
   "cell_type": "code",
   "execution_count": null,
   "id": "254f377d",
   "metadata": {},
   "outputs": [],
   "source": [
    "file = open(\"check.txt\", \"w\")\n",
    "print(\"File open?\", not file.closed)\n",
    "\n",
    "file.close()\n",
    "print(\"File closed?\", file.closed)\n"
   ]
  },
  {
   "cell_type": "markdown",
   "id": "c8f9b179",
   "metadata": {},
   "source": [
    "#### 'with open()'\n",
    "'with' automatically closes the file after use.\n",
    "\n",
    "Why:\n",
    "Avoids forgetting to close files — prevents memory leaks and file lock errors.\n",
    "\n",
    "with open(filename, mode) as file:\n",
    "    operations"
   ]
  },
  {
   "cell_type": "code",
   "execution_count": null,
   "id": "6e8957ca",
   "metadata": {},
   "outputs": [],
   "source": [
    "# 'with' automatically closes the file after the block ends\n",
    "with open(\"auto_close.txt\", \"w\") as f:\n",
    "    f.write(\"This file will close automatically!\")\n",
    "\n",
    "print(\"Is file closed?\", f.closed)\n"
   ]
  },
  {
   "cell_type": "markdown",
   "id": "efe6d514",
   "metadata": {},
   "source": [
    "The w+ mode in Python is used to open a file for both reading and writing. If the file does not exist, it will be created. If the file exists, its content is truncated (i.e., the file is overwritten)."
   ]
  },
  {
   "cell_type": "markdown",
   "id": "1183f6a9",
   "metadata": {},
   "source": [
    "#### File Modes:"
   ]
  },
  {
   "attachments": {
    "image.png": {
     "image/png": "[encoded data removed]"
    }
   },
   "cell_type": "markdown",
   "id": "055beec5",
   "metadata": {},
   "source": [
    "![image.png](attachment:image.png)"
   ]
  },
  {
   "cell_type": "code",
   "execution_count": null,
   "id": "6c87029b",
   "metadata": {},
   "outputs": [],
   "source": [
    "import os\n",
    "\n",
    "if os.path.exists(\"data.txt\"):\n",
    "    print(\"File exists!\")\n",
    "else:\n",
    "    print(\"File not found.\")\n"
   ]
  },
  {
   "cell_type": "code",
   "execution_count": null,
   "id": "cd7db148",
   "metadata": {},
   "outputs": [],
   "source": [
    "cwd=os.getcwd()"
   ]
  },
  {
   "cell_type": "code",
   "execution_count": null,
   "id": "96347f3c",
   "metadata": {},
   "outputs": [],
   "source": [
    "new_directory=\"package\"\n",
    "os.mkdir(new_directory)"
   ]
  },
  {
   "cell_type": "code",
   "execution_count": null,
   "id": "40a3f000",
   "metadata": {},
   "outputs": [],
   "source": [
    "items=os.listdir('.')"
   ]
  },
  {
   "cell_type": "code",
   "execution_count": null,
   "id": "b1e28ceb",
   "metadata": {},
   "outputs": [],
   "source": [
    "### Joining Paths\n",
    "\n",
    "dir_name=\"folder\"\n",
    "file_name=\"file.txt\"\n",
    "full_path=os.path.join(dir_name,file_name)\n",
    "print(full_path)"
   ]
  },
  {
   "cell_type": "code",
   "execution_count": null,
   "id": "f956510d",
   "metadata": {},
   "outputs": [],
   "source": [
    "path='example1.txt'\n",
    "if os.path.exists(path):\n",
    "    print(f\"The path '{path}' exists\")\n",
    "else:\n",
    "    print(f\"The path '{path}' does not exists\")"
   ]
  },
  {
   "cell_type": "code",
   "execution_count": null,
   "id": "da6ed2ed",
   "metadata": {},
   "outputs": [],
   "source": [
    "#Checking if a Path is a File or Directory\n",
    "import os\n",
    "\n",
    "path = 'example.txt'\n",
    "if os.path.isfile(path):\n",
    "    print(f\"The path '{path}' is a file.\")\n",
    "elif os.path.isdir(path):\n",
    "    print(f\"The path '{path}' is a directory.\")\n",
    "else:\n",
    "    print(f\"The path '{path}' is neither a file nor a directory.\")\n"
   ]
  },
  {
   "cell_type": "markdown",
   "id": "964c5d18",
   "metadata": {},
   "source": [
    "* Create a new file 'notes.txt' and write 3 lines to it.\n",
    "* Read it line by line and print only lines containing 'Python'.\n",
    "* Append one new line and display the final content.\n",
    "* Use with open() to safely handle file.\n",
    "\n"
   ]
  },
  {
   "cell_type": "markdown",
   "id": "da27006d",
   "metadata": {},
   "source": []
  }
 ],
 "metadata": {
  "kernelspec": {
   "display_name": "Python 3",
   "language": "python",
   "name": "python3"
  },
  "language_info": {
   "name": "python",
   "version": "3.10.0"
  }
 },
 "nbformat": 4,
 "nbformat_minor": 5
}
