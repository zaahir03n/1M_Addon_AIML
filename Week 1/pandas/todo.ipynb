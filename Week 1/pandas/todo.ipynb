{
 "cells": [
  {
   "cell_type": "markdown",
   "id": "827c460d",
   "metadata": {},
   "source": [
    "Questions?\n",
    "\n",
    "1. What was the maximum temparature in new york in the month of january?\n",
    "\n",
    "2. On which days did it rains?\n",
    "\n",
    "3. What was the average speed of wind during the month?\n"
   ]
  },
  {
   "cell_type": "markdown",
   "id": "73f79465",
   "metadata": {},
   "source": []
  }
 ],
 "metadata": {
  "language_info": {
   "name": "python"
  }
 },
 "nbformat": 4,
 "nbformat_minor": 5
}
