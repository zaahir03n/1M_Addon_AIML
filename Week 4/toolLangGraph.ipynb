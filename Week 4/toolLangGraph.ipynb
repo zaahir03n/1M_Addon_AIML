{
 "cells": [
  {
   "cell_type": "markdown",
   "metadata": {},
   "source": [
    "llm application - apps build on top of llm\n",
    "rag -llm +knwledge store\n",
    "agent-llm+tools(apis,knowledge store)+decision making logic\n",
    "\n",
    "chain\n",
    "graph-state nodes edges coditional edges"
   ]
  },
  {
   "cell_type": "markdown",
   "metadata": {},
   "source": [
    "### Chain Using LangGraph\n",
    "In this section we will see how we can build a simple chain using Langgraph that uses 4 important concepts\n",
    "\n",
    "- How to use chat messages as our graph state\n",
    "- How to use chat models in graph nodes\n",
    "- How to bind tools to our LLM in chat models\n",
    "- How to execute the tools call in our graph nodes "
   ]
  },
  {
   "cell_type": "code",
   "execution_count": null,
   "metadata": {},
   "outputs": [],
   "source": [
    "from dotenv import load_dotenv\n",
    "load_dotenv()\n",
    "\n",
    "import os\n",
    "os.environ[\"OPENAI_API_KEY\"]=os.getenv(\"OPENAI_API_KEY\")\n",
    "os.environ[\"GROQ_API_KEY\"]=os.getenv(\"GROQ_API_KEY\")\n"
   ]
  },
  {
   "cell_type": "markdown",
   "metadata": {},
   "source": [
    "#### How to use chat messages as our graph state\n",
    "##### Messages\n",
    "\n",
    "LangChain provides message classes to represent different roles in a chat:\n",
    "* HumanMessage → From the user\n",
    "* AIMessage → From the AI model\n",
    "* SystemMessage → Instruction for model behavior\n",
    "* ToolMessage → Response from a tool call\n",
    "\n",
    "Each message has:\n",
    "* content: Text of the message\n",
    "* name: Author’s name (optional)\n",
    "* response_metadata: Metadata like timestamps, model name, etc.\n"
   ]
  },
  {
   "cell_type": "code",
   "execution_count": 20,
   "metadata": {},
   "outputs": [
    {
     "name": "stdout",
     "output_type": "stream",
     "text": [
      "==================================\u001b[1m Ai Message \u001b[0m==================================\n",
      "Name: LLMModel\n",
      "\n",
      "Please tell me how can I help\n",
      "================================\u001b[1m Human Message \u001b[0m=================================\n",
      "Name: Jhon\n",
      "\n",
      "I want to learn coding\n",
      "==================================\u001b[1m Ai Message \u001b[0m==================================\n",
      "Name: LLMModel\n",
      "\n",
      "Which programming language you want to learn\n",
      "================================\u001b[1m Human Message \u001b[0m=================================\n",
      "Name: Jhon\n",
      "\n",
      "I want to learn python programming language\n"
     ]
    }
   ],
   "source": [
    "from langchain_core.messages import AIMessage,HumanMessage\n",
    "from pprint import pprint\n",
    "\n",
    "messages=[AIMessage(content=f\"Please tell me how can I help\",name=\"LLMModel\")]\n",
    "messages.append(HumanMessage(content=f\"I want to learn coding\",name=\"Jhon\"))\n",
    "messages.append(AIMessage(content=f\"Which programming language you want to learn\",name=\"LLMModel\"))\n",
    "messages.append(HumanMessage(content=f\"I want to learn python programming language\",name=\"Jhon\"))\n",
    "\n",
    "for message in messages:\n",
    "    message.pretty_print()\n",
    "\n"
   ]
  },
  {
   "cell_type": "markdown",
   "metadata": {},
   "source": [
    "### Chat Models\n",
    "\n",
    "We can use the sequence of message as input with the chatmodels using LLM's and OPENAI."
   ]
  },
  {
   "cell_type": "code",
   "execution_count": 21,
   "metadata": {},
   "outputs": [],
   "source": [
    "from langchain_groq import ChatGroq\n",
    "llm=ChatGroq(model=\"openai/gpt-oss-20b\")\n",
    "result=llm.invoke(messages)"
   ]
  },
  {
   "cell_type": "code",
   "execution_count": 22,
   "metadata": {},
   "outputs": [
    {
     "data": {
      "text/plain": [
       "{'token_usage': {'completion_tokens': 2126,\n",
       "  'prompt_tokens': 113,\n",
       "  'total_tokens': 2239,\n",
       "  'completion_time': 2.100634671,\n",
       "  'prompt_time': 0.006435059,\n",
       "  'queue_time': 0.003335085,\n",
       "  'total_time': 2.10706973},\n",
       " 'model_name': 'openai/gpt-oss-20b',\n",
       " 'system_fingerprint': 'fp_e99e93f2ac',\n",
       " 'service_tier': 'on_demand',\n",
       " 'finish_reason': 'stop',\n",
       " 'logprobs': None,\n",
       " 'model_provider': 'groq'}"
      ]
     },
     "execution_count": 22,
     "metadata": {},
     "output_type": "execute_result"
    }
   ],
   "source": [
    "result.response_metadata"
   ]
  },
  {
   "cell_type": "markdown",
   "metadata": {},
   "source": [
    "### Tools\n",
    "Tools can be integrated with the LLM models to interact with external systems. External systems can be API's, third party tools.\n",
    "\n",
    "Whenever a query is asked the model can choose to call the tool and this query is based on the \n",
    "natural language input and this will return an output that matches the tool's schema"
   ]
  },
  {
   "cell_type": "code",
   "execution_count": 23,
   "metadata": {},
   "outputs": [],
   "source": [
    "def add(a:int,b:int)-> int:\n",
    "    \"\"\" Add a and b\n",
    "    Args:\n",
    "        a (int): first int\n",
    "        b (int): second int\n",
    "\n",
    "    Returns:\n",
    "        int\n",
    "    \"\"\"\n",
    "    return a+b"
   ]
  },
  {
   "cell_type": "code",
   "execution_count": 24,
   "metadata": {},
   "outputs": [
    {
     "data": {
      "text/plain": [
       "ChatGroq(client=<groq.resources.chat.completions.Completions object at 0x00000199819785E0>, async_client=<groq.resources.chat.completions.AsyncCompletions object at 0x00000199822FD450>, model_name='openai/gpt-oss-20b', model_kwargs={}, groq_api_key=SecretStr('**********'))"
      ]
     },
     "execution_count": 24,
     "metadata": {},
     "output_type": "execute_result"
    }
   ],
   "source": [
    "llm"
   ]
  },
  {
   "cell_type": "markdown",
   "metadata": {},
   "source": [
    "When you “bind” tools, the LLM is told:\n",
    "* “You have these tools available — you can call them if the user’s question matches their description.”"
   ]
  },
  {
   "cell_type": "code",
   "execution_count": 25,
   "metadata": {},
   "outputs": [],
   "source": [
    "### Binding tool with llm\n",
    "\n",
    "llm_with_tools=llm.bind_tools([add])"
   ]
  },
  {
   "cell_type": "code",
   "execution_count": 26,
   "metadata": {},
   "outputs": [],
   "source": [
    "# if a user asks:\n",
    "tool_call=llm_with_tools.invoke([HumanMessage(content=f\"What is 2 plus 2\",name=\"Jhon\")])"
   ]
  },
  {
   "cell_type": "code",
   "execution_count": 27,
   "metadata": {},
   "outputs": [
    {
     "data": {
      "text/plain": [
       "[{'name': 'add',\n",
       "  'args': {'a': 2, 'b': 2},\n",
       "  'id': 'fc_d481ed93-95e3-4e28-a096-56f71fb3faa2',\n",
       "  'type': 'tool_call'}]"
      ]
     },
     "execution_count": 27,
     "metadata": {},
     "output_type": "execute_result"
    }
   ],
   "source": [
    "#whether the model decided to call the tool and what arguments it sent.\n",
    "tool_call.tool_calls"
   ]
  },
  {
   "cell_type": "code",
   "execution_count": null,
   "metadata": {},
   "outputs": [],
   "source": [
    "question->llm-->checks whethr anyb tool can aswer this->toolcall"
   ]
  },
  {
   "cell_type": "markdown",
   "metadata": {},
   "source": [
    "### Using messages as state"
   ]
  },
  {
   "cell_type": "markdown",
   "metadata": {},
   "source": [
    "state is shared data that passes between graph nodes."
   ]
  },
  {
   "cell_type": "code",
   "execution_count": 28,
   "metadata": {},
   "outputs": [],
   "source": [
    "from typing_extensions import TypedDict\n",
    "from langchain_core.messages import AnyMessage\n",
    "\n",
    "class State(TypedDict):\n",
    "    message:list[AnyMessage]"
   ]
  },
  {
   "cell_type": "markdown",
   "metadata": {},
   "source": [
    "here , the problem is:</br>\n",
    "Each node returns an updated value for messages.\n",
    "If you just set it, the new messages replace old ones — but we want to append new messages."
   ]
  },
  {
   "cell_type": "markdown",
   "metadata": {},
   "source": [
    "#### Reducers\n",
    "Now, we have a minor problem!\n",
    "\n",
    "As we discussed, each node will return a new value for our state key messages.\n",
    "\n",
    "But, this new value will override the prior messages value.\n",
    "\n",
    "As our graph runs, we want to append messages to our messages state key.\n",
    "\n",
    "We can use reducer functions to address this.\n",
    "\n",
    "Reducers allow us to specify how state updates are performed.\n",
    "\n",
    "If no reducer function is specified, then it is assumed that updates to the key should override it as we saw before.\n",
    "\n",
    "But, to append messages, we can use the pre-built add_messages reducer.\n",
    "\n",
    "This ensures that any messages are appended to the existing list of messages.\n",
    "\n",
    "We simply need to annotate our messages key with the add_messages reducer function as metadata."
   ]
  },
  {
   "cell_type": "code",
   "execution_count": 29,
   "metadata": {},
   "outputs": [],
   "source": [
    "from langgraph.graph.message import add_messages\n",
    "from typing import Annotated\n",
    "class State(TypedDict):\n",
    "    messages:Annotated[list[AnyMessage],add_messages]"
   ]
  },
  {
   "cell_type": "markdown",
   "metadata": {},
   "source": [
    "### Reducers with add_messages"
   ]
  },
  {
   "cell_type": "code",
   "execution_count": 30,
   "metadata": {},
   "outputs": [
    {
     "data": {
      "text/plain": [
       "[AIMessage(content='Please tell me how can I help', additional_kwargs={}, response_metadata={}, name='LLMModel'),\n",
       " HumanMessage(content='I want to learn coding', additional_kwargs={}, response_metadata={}, name='Jhon')]"
      ]
     },
     "execution_count": 30,
     "metadata": {},
     "output_type": "execute_result"
    }
   ],
   "source": [
    "initial_messages=[AIMessage(content=f\"Please tell me how can I help\",name=\"LLMModel\")]\n",
    "initial_messages.append(HumanMessage(content=f\"I want to learn coding\",name=\"Jhon\"))\n",
    "initial_messages"
   ]
  },
  {
   "cell_type": "code",
   "execution_count": 31,
   "metadata": {},
   "outputs": [
    {
     "data": {
      "text/plain": [
       "AIMessage(content='Which programming language you want to learn', additional_kwargs={}, response_metadata={}, name='LLMModel')"
      ]
     },
     "execution_count": 31,
     "metadata": {},
     "output_type": "execute_result"
    }
   ],
   "source": [
    "ai_message=AIMessage(content=f\"Which programming language you want to learn\",name=\"LLMModel\")\n",
    "ai_message"
   ]
  },
  {
   "cell_type": "code",
   "execution_count": 32,
   "metadata": {},
   "outputs": [
    {
     "data": {
      "text/plain": [
       "[AIMessage(content='Please tell me how can I help', additional_kwargs={}, response_metadata={}, name='LLMModel', id='de803eea-d910-44a2-b5b0-81381c17e2b5'),\n",
       " HumanMessage(content='I want to learn coding', additional_kwargs={}, response_metadata={}, name='Jhon', id='4c2d79e2-5cd5-4028-a064-dc6849306666'),\n",
       " AIMessage(content='Which programming language you want to learn', additional_kwargs={}, response_metadata={}, name='LLMModel', id='fa4544f5-a819-430c-afa4-d274a8c6b8e9')]"
      ]
     },
     "execution_count": 32,
     "metadata": {},
     "output_type": "execute_result"
    }
   ],
   "source": [
    "### Reducers add_messages is to append instead of override\n",
    "add_messages(initial_messages,ai_message)"
   ]
  },
  {
   "cell_type": "code",
   "execution_count": 35,
   "metadata": {},
   "outputs": [],
   "source": [
    "## chatbot node functionality\n",
    "def llm_tool(state:State):\n",
    "    return {\"messages\":[llm_with_tools.invoke(state[\"messages\"])]}"
   ]
  },
  {
   "cell_type": "code",
   "execution_count": 36,
   "metadata": {},
   "outputs": [
    {
     "data": {
      "image/png": "[encoded data removed]",
      "text/plain": [
       "<IPython.core.display.Image object>"
      ]
     },
     "metadata": {},
     "output_type": "display_data"
    }
   ],
   "source": [
    "from IPython.display import Image, display\n",
    "from langgraph.graph import StateGraph, START, END\n",
    "builder=StateGraph(State)\n",
    "\n",
    "builder.add_node(\"llm_tool\",llm_tool)\n",
    "\n",
    "builder.add_edge(START,\"llm_tool\")\n",
    "builder.add_edge(\"llm_tool\",END)\n",
    "\n",
    "graph=builder.compile()\n",
    "\n",
    "display(Image(graph.get_graph().draw_mermaid_png()))"
   ]
  },
  {
   "cell_type": "code",
   "execution_count": 39,
   "metadata": {},
   "outputs": [
    {
     "name": "stdout",
     "output_type": "stream",
     "text": [
      "================================\u001b[1m Human Message \u001b[0m=================================\n",
      "\n",
      "What is 2 plus 2\n",
      "==================================\u001b[1m Ai Message \u001b[0m==================================\n",
      "Tool Calls:\n",
      "  add (fc_3a65bce3-a213-4166-b1e0-aec7765d6516)\n",
      " Call ID: fc_3a65bce3-a213-4166-b1e0-aec7765d6516\n",
      "  Args:\n",
      "    a: 2\n",
      "    b: 2\n"
     ]
    }
   ],
   "source": [
    "## invocation\n",
    "\n",
    "messages=graph.invoke({\"messages\":\"What is 2 plus 2\"})\n",
    "\n",
    "for message in messages[\"messages\"]:\n",
    "    message.pretty_print()"
   ]
  },
  {
   "cell_type": "code",
   "execution_count": 40,
   "metadata": {},
   "outputs": [],
   "source": [
    "from langgraph.prebuilt import ToolNode\n",
    "from langgraph.prebuilt import tools_condition\n",
    "\n",
    "tools=[add]\n",
    "\n",
    "builder=StateGraph(State)\n",
    "\n",
    "## Add nodes\n",
    "\n",
    "builder.add_node(\"llm_tool\",llm_tool)\n",
    "#additional node to execute tool calls.\n",
    "builder.add_node(\"tools\",ToolNode(tools))\n",
    "\n",
    "## Add Edge\n",
    "builder.add_edge(START,\"llm_tool\")\n",
    "#dynamically choose where to go next\n",
    "builder.add_conditional_edges(\n",
    "    \"llm_tool\",\n",
    "    # If the latest message (result) from assistant is a tool call -> tools_condition routes to tools\n",
    "    # If the latest message (result) from assistant is a not a tool call -> tools_condition routes to END\n",
    "    tools_condition\n",
    ")\n",
    "builder.add_edge(\"tools\",END)\n",
    "\n",
    "\n",
    "graph_builder = builder.compile()\n",
    "\n"
   ]
  },
  {
   "cell_type": "code",
   "execution_count": 42,
   "metadata": {},
   "outputs": [
    {
     "data": {
      "image/png": "[encoded data removed]",
      "text/plain": [
       "<IPython.core.display.Image object>"
      ]
     },
     "metadata": {},
     "output_type": "display_data"
    }
   ],
   "source": [
    "display(Image(graph_builder.get_graph().draw_mermaid_png()))"
   ]
  },
  {
   "cell_type": "code",
   "execution_count": 45,
   "metadata": {},
   "outputs": [
    {
     "name": "stdout",
     "output_type": "stream",
     "text": [
      "================================\u001b[1m Human Message \u001b[0m=================================\n",
      "\n",
      "What is 2 plus 2\n",
      "==================================\u001b[1m Ai Message \u001b[0m==================================\n",
      "Tool Calls:\n",
      "  add (fc_d49d5e49-b9cc-48a4-96e5-b664677439d7)\n",
      " Call ID: fc_d49d5e49-b9cc-48a4-96e5-b664677439d7\n",
      "  Args:\n",
      "    a: 2\n",
      "    b: 2\n",
      "=================================\u001b[1m Tool Message \u001b[0m=================================\n",
      "Name: add\n",
      "\n",
      "4\n"
     ]
    }
   ],
   "source": [
    "## invocation\n",
    "\n",
    "messages=graph_builder.invoke({\"messages\":\"What is 2 plus 2\"})\n",
    "\n",
    "for message in messages[\"messages\"]:\n",
    "    message.pretty_print()"
   ]
  },
  {
   "cell_type": "markdown",
   "metadata": {},
   "source": [
    "\"What is 2 plus 2” → Model calls add(2,2) tool → gets result → replies 4"
   ]
  },
  {
   "cell_type": "code",
   "execution_count": 46,
   "metadata": {},
   "outputs": [
    {
     "name": "stdout",
     "output_type": "stream",
     "text": [
      "================================\u001b[1m Human Message \u001b[0m=================================\n",
      "\n",
      "What Machine Learning\n",
      "==================================\u001b[1m Ai Message \u001b[0m==================================\n",
      "\n",
      "### What is Machine Learning?\n",
      "\n",
      "Machine Learning (ML) is a subfield of artificial intelligence that focuses on building systems that can learn from data, identify patterns, and make decisions or predictions without being explicitly programmed for each specific task.\n",
      "\n",
      "---\n",
      "\n",
      "#### Core Concepts\n",
      "\n",
      "| Concept | What it means | Typical tools / techniques |\n",
      "|---------|---------------|---------------------------|\n",
      "| **Data** | The raw information (images, text, numbers, etc.) that the system learns from. | CSV files, image datasets, text corpora |\n",
      "| **Model** | A mathematical representation that captures relationships in the data. | Neural networks, decision trees, support vector machines |\n",
      "| **Training** | The process of adjusting the model’s parameters so that it fits the data. | Gradient descent, back‑propagation |\n",
      "| **Evaluation** | Measuring how well the model performs on unseen data. | Accuracy, precision, recall, ROC‑AUC |\n",
      "| **Inference** | Using the trained model to make predictions on new data. | Real‑time scoring, batch predictions |\n",
      "\n",
      "---\n",
      "\n",
      "#### Common ML Paradigms\n",
      "\n",
      "| Paradigm | Description | Typical Use‑Cases |\n",
      "|----------|-------------|-------------------|\n",
      "| **Supervised Learning** | Learn a mapping from inputs to outputs using labeled data. | Image classification, spam detection, regression |\n",
      "| **Unsupervised Learning** | Discover hidden structure in unlabeled data. | Clustering, dimensionality reduction |\n",
      "| **Semi‑Supervised Learning** | Combine a small amount of labeled data with a large amount of unlabeled data. | Text classification with limited annotations |\n",
      "| **Reinforcement Learning** | Learn by interacting with an environment and receiving rewards. | Game playing, robotics, recommendation systems |\n",
      "\n",
      "---\n",
      "\n",
      "#### Popular Algorithms\n",
      "\n",
      "| Algorithm | Category | Key Idea |\n",
      "|-----------|----------|----------|\n",
      "| **Linear Regression / Logistic Regression** | Supervised | Fit a linear relationship (or log‑odds) |\n",
      "| **Decision Trees / Random Forests** | Supervised | Split data based on feature thresholds |\n",
      "| **k‑Nearest Neighbors** | Supervised | Predict based on closest samples |\n",
      "| **Support Vector Machines** | Supervised | Find hyperplane maximizing margin |\n",
      "| **k‑Means Clustering** | Unsupervised | Partition data into k clusters |\n",
      "| **Principal Component Analysis (PCA)** | Unsupervised | Reduce dimensionality while preserving variance |\n",
      "| **Convolutional Neural Networks (CNNs)** | Deep Learning | Detect spatial patterns in images |\n",
      "| **Recurrent Neural Networks / Transformers** | Deep Learning | Model sequential data (text, time series) |\n",
      "| **Q‑Learning / Policy Gradients** | Reinforcement Learning | Learn optimal actions via rewards |\n",
      "\n",
      "---\n",
      "\n",
      "#### Typical ML Workflow\n",
      "\n",
      "1. **Define Problem** – Clarify the objective and success metrics.  \n",
      "2. **Collect & Prepare Data** – Gather, clean, and preprocess.  \n",
      "3. **Choose a Model** – Select algorithm(s) suited to the problem.  \n",
      "4. **Train** – Optimize model parameters on training data.  \n",
      "5. **Validate & Tune** – Use validation data to avoid overfitting; tune hyper‑parameters.  \n",
      "6. **Test** – Evaluate on a held‑out test set to estimate real‑world performance.  \n",
      "7. **Deploy** – Integrate the model into production (API, edge device, etc.).  \n",
      "8. **Monitor & Retrain** – Track performance drift and update as needed.\n",
      "\n",
      "---\n",
      "\n",
      "#### Why It Matters\n",
      "\n",
      "- **Automation**: Handles large volumes of data faster than humans.  \n",
      "- **Personalization**: Tailors experiences (recommendations, ads).  \n",
      "- **Insight**: Reveals hidden patterns that drive business decisions.  \n",
      "- **Innovation**: Powers self‑driving cars, medical diagnostics, and more.\n",
      "\n",
      "---\n",
      "\n",
      "#### Quick Starter Resources\n",
      "\n",
      "| Resource | Focus |\n",
      "|----------|-------|\n",
      "| **Coursera – Machine Learning (Andrew Ng)** | Intro to supervised & unsupervised learning |\n",
      "| **fast.ai** | Practical deep learning for coders |\n",
      "| **scikit‑learn docs** | Beginner‑friendly machine‑learning library |\n",
      "| **TensorFlow / PyTorch tutorials** | Deep‑learning frameworks |\n",
      "| **Kaggle Competitions** | Hands‑on practice with real datasets |\n",
      "\n",
      "---\n",
      "\n",
      "Feel free to ask about a specific area—whether it’s an algorithm, a tool, or a particular application—and I’ll dive deeper!\n"
     ]
    }
   ],
   "source": [
    "messages=graph_builder.invoke({\"messages\":\"What Machine Learning\"})\n",
    "\n",
    "for message in messages[\"messages\"]:\n",
    "    message.pretty_print()"
   ]
  },
  {
   "cell_type": "markdown",
   "metadata": {},
   "source": [
    "\"What is Machine Learning” → No tool call → model answers directly"
   ]
  },
  {
   "cell_type": "code",
   "execution_count": null,
   "metadata": {},
   "outputs": [],
   "source": []
  },
  {
   "cell_type": "markdown",
   "metadata": {},
   "source": [
    "| Concept               | Meaning                  | Example                          |\n",
    "| --------------------- | ------------------------ | -------------------------------- |\n",
    "| **Messages**          | Structured chat turns    | `AIMessage`, `HumanMessage`      |\n",
    "| **Chat Model**        | Conversational LLM       | `ChatGroq(model=\"qwen-qwq-32b\")` |\n",
    "| **Tools**             | External functions       | `def add(a,b)`                   |\n",
    "| **Bind Tools**        | Give LLM access to tools | `llm.bind_tools([add])`          |\n",
    "| **State**             | Shared data in graph     | `messages: list[AnyMessage]`     |\n",
    "| **Reducer**           | Merges state updates     | `add_messages` appends           |\n",
    "| **Node**              | Single graph operation   | `llm_tool` function              |\n",
    "| **Edges**             | Flow between nodes       | `START → llm_tool → END`         |\n",
    "| **Conditional Edges** | Smart routing            | `tools_condition`                |\n",
    "| **ToolNode**          | Executes tool calls      | `ToolNode([add])`                |\n"
   ]
  },
  {
   "cell_type": "markdown",
   "metadata": {},
   "source": []
  }
 ],
 "metadata": {
  "kernelspec": {
   "display_name": "Python 3",
   "language": "python",
   "name": "python3"
  },
  "language_info": {
   "codemirror_mode": {
    "name": "ipython",
    "version": 3
   },
   "file_extension": ".py",
   "mimetype": "text/x-python",
   "name": "python",
   "nbconvert_exporter": "python",
   "pygments_lexer": "ipython3",
   "version": "3.10.0"
  }
 },
 "nbformat": 4,
 "nbformat_minor": 2
}
