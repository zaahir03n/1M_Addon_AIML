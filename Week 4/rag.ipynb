{
 "cells": [
  {
   "cell_type": "markdown",
   "id": "32ebc00c",
   "metadata": {},
   "source": [
    "#### An AI Agent has four key components:\n",
    "\n",
    "</br>Brain (LLM) - The language model that thinks and reasons\n",
    "</br>Tools - Functions the agent can call (search, calculator, APIs)\n",
    "</br>Memory - Remembers conversation history and context\n",
    "</br>Planning - Breaks down complex tasks into steps"
   ]
  },
  {
   "cell_type": "markdown",
   "id": "21d79eec",
   "metadata": {},
   "source": [
    "**Goal**: index a small text file, create retriever, wire a retrieval chain and get answers.\n",
    "\n",
    "Steps & code\n",
    "* Load documents, split into chunks\n",
    "* Create embeddings & vectorstore (Chroma used as example)\n",
    "* Create a retriever\n",
    "* Wire a create_retrieval_chain and run queries"
   ]
  },
  {
   "cell_type": "markdown",
   "id": "0f80f76e",
   "metadata": {},
   "source": []
  },
  {
   "cell_type": "code",
   "execution_count": 4,
   "id": "beb0f0cc",
   "metadata": {},
   "outputs": [],
   "source": [
    "#Load the data\n",
    "from langchain_community.document_loaders.text import TextLoader\n",
    "loader = TextLoader('COMPANY POLICY HANDBOOK.txt')\n",
    "docs = loader.load()"
   ]
  },
  {
   "cell_type": "code",
   "execution_count": 5,
   "id": "1963fd1c",
   "metadata": {},
   "outputs": [
    {
     "data": {
      "text/plain": [
       "[Document(metadata={'source': 'COMPANY POLICY HANDBOOK.txt'}, page_content='COMPANY POLICY HANDBOOK\\n1. INTRODUCTION AND PURPOSE'),\n",
       " Document(metadata={'source': 'COMPANY POLICY HANDBOOK.txt'}, page_content='1. INTRODUCTION AND PURPOSE\\nThis Company Policy Handbook outlines the principles, rules, and procedures that govern the organization’s operations, employee behavior, data management, and compliance obligations. The objective is to create a consistent, transparent, and ethical workplace where all employees, contractors, and partners operate with professionalism, respect, and accountability.'),\n",
       " Document(metadata={'source': 'COMPANY POLICY HANDBOOK.txt'}, page_content='All employees are required to read, understand, and comply with the policies contained herein. These policies are subject to change at the discretion of the Management Board, and all updates will be communicated through the official communication channels, including internal email notifications and the company intranet portal.'),\n",
       " Document(metadata={'source': 'COMPANY POLICY HANDBOOK.txt'}, page_content='The handbook applies to all permanent, temporary, and contract employees, as well as interns and consultants representing the company in any capacity. Failure to adhere to these policies may result in disciplinary action, up to and including termination of employment.'),\n",
       " Document(metadata={'source': 'COMPANY POLICY HANDBOOK.txt'}, page_content='The company promotes a culture of mutual respect, integrity, innovation, and safety. Our policies reflect our legal obligations, ethical standards, and operational goals. Employees are encouraged to seek clarification from their managers or the Human Resources (HR) Department regarding any policy.'),\n",
       " Document(metadata={'source': 'COMPANY POLICY HANDBOOK.txt'}, page_content='2. CODE OF CONDUCT AND ETHICS\\n2.1 General Principles\\nAll employees are expected to demonstrate honesty, fairness, and integrity in all professional dealings. Personal and professional conduct should reflect positively on the company and uphold its reputation. Employees must avoid behavior that may harm the company’s image, relationships, or financial interests.'),\n",
       " Document(metadata={'source': 'COMPANY POLICY HANDBOOK.txt'}, page_content='2.2 Compliance with Laws and Regulations\\nEmployees must comply with all applicable laws, including labor laws, anti-corruption statutes, data protection regulations, export controls, and environmental standards. Ignorance of the law is not an excuse for non-compliance. The company may conduct periodic compliance audits to ensure adherence.\\n2.3 Conflict of Interest'),\n",
       " Document(metadata={'source': 'COMPANY POLICY HANDBOOK.txt'}, page_content='2.3 Conflict of Interest\\nEmployees should avoid situations where personal interests conflict with the interests of the company. A conflict of interest arises when an individual’s personal, financial, or family interests interfere with their professional responsibilities. Examples include having a financial stake in a competitor, vendor, or client, or using company resources for personal gain.'),\n",
       " Document(metadata={'source': 'COMPANY POLICY HANDBOOK.txt'}, page_content='All potential conflicts must be disclosed to HR or the Legal Department in writing.\\n2.4 Anti-Bribery and Corruption'),\n",
       " Document(metadata={'source': 'COMPANY POLICY HANDBOOK.txt'}, page_content='2.4 Anti-Bribery and Corruption\\nThe company maintains a zero-tolerance policy toward bribery and corruption. Employees must not offer, give, solicit, or accept any form of bribe, gift, or payment that could influence a business decision. All hospitality or gifts above nominal value must be declared and approved by the department head.\\n2.5 Confidentiality and Non-Disclosure'),\n",
       " Document(metadata={'source': 'COMPANY POLICY HANDBOOK.txt'}, page_content='2.5 Confidentiality and Non-Disclosure\\nEmployees must protect all confidential, proprietary, or sensitive information obtained during their employment. Disclosure to unauthorized individuals is strictly prohibited. This obligation continues after the termination of employment. Confidential information includes business plans, customer data, financial information, and trade secrets.'),\n",
       " Document(metadata={'source': 'COMPANY POLICY HANDBOOK.txt'}, page_content='3. EMPLOYMENT AND HUMAN RESOURCES POLICIES\\n3.1 Equal Employment Opportunity'),\n",
       " Document(metadata={'source': 'COMPANY POLICY HANDBOOK.txt'}, page_content='The company is committed to providing equal employment opportunities without discrimination based on race, gender, religion, age, nationality, disability, or any other protected characteristic. All employment decisions, including recruitment, compensation, promotion, and termination, are made based on merit and performance.\\n\\n3.2 Recruitment and Onboarding'),\n",
       " Document(metadata={'source': 'COMPANY POLICY HANDBOOK.txt'}, page_content='3.2 Recruitment and Onboarding\\n\\nRecruitment is conducted transparently and fairly. All positions are advertised internally and externally when applicable. Selected candidates undergo background checks and must submit verified credentials. The HR Department coordinates onboarding, ensuring that new hires understand the company’s mission, values, and policies.\\n\\n3.3 Performance Management'),\n",
       " Document(metadata={'source': 'COMPANY POLICY HANDBOOK.txt'}, page_content='3.3 Performance Management\\n\\nEmployee performance is reviewed periodically through a structured appraisal process. Appraisals are based on key performance indicators (KPIs), goal achievement, teamwork, innovation, and compliance with company values. Performance feedback is documented and discussed with employees.\\n\\n3.4 Compensation and Benefits'),\n",
       " Document(metadata={'source': 'COMPANY POLICY HANDBOOK.txt'}, page_content='3.4 Compensation and Benefits\\n\\nCompensation packages are determined based on job level, experience, and market competitiveness. Employees are entitled to benefits such as health insurance, paid leave, and retirement contributions in accordance with company policy and local regulations.\\n\\n3.5 Termination and Exit Procedure'),\n",
       " Document(metadata={'source': 'COMPANY POLICY HANDBOOK.txt'}, page_content='3.5 Termination and Exit Procedure\\n\\nEmployment may be terminated voluntarily or involuntarily. Resigning employees must provide notice as per their contract. Exit interviews are conducted to gather feedback. Company assets, ID cards, and electronic devices must be returned before final settlement.\\n\\n4. WORKING HOURS, ATTENDANCE, AND LEAVE\\n4.1 Working Hours'),\n",
       " Document(metadata={'source': 'COMPANY POLICY HANDBOOK.txt'}, page_content='The standard workweek consists of 40 hours, typically from Monday to Friday. Employees are expected to report on time and maintain punctuality. Flexible work schedules may be approved at the manager’s discretion.\\n\\n4.2 Attendance and Absenteeism'),\n",
       " Document(metadata={'source': 'COMPANY POLICY HANDBOOK.txt'}, page_content='4.2 Attendance and Absenteeism\\n\\nAttendance records are maintained through the HR management system. Unauthorized absence for more than three consecutive days may be considered job abandonment. Repeated tardiness may result in disciplinary action.\\n\\n4.3 Leave Policies\\n\\nEmployees are entitled to various types of leave:\\n\\nAnnual Leave: Minimum of 20 working days per year.'),\n",
       " Document(metadata={'source': 'COMPANY POLICY HANDBOOK.txt'}, page_content='Sick Leave: As per medical certificate and labor laws.\\n\\nMaternity/Paternity Leave: Provided according to statutory regulations.\\n\\nEmergency Leave: Subject to managerial approval.\\n\\nAll leave requests must be submitted through the HR portal and approved by supervisors.\\n\\n5. DATA PROTECTION AND PRIVACY POLICY\\n5.1 Purpose'),\n",
       " Document(metadata={'source': 'COMPANY POLICY HANDBOOK.txt'}, page_content='This policy ensures compliance with global data protection standards, including GDPR and other local privacy regulations. The company collects, processes, and stores personal data responsibly and lawfully.\\n\\n5.2 Data Classification\\n\\nData is categorized into:\\n\\nPublic Data: Freely shareable information.\\n\\nInternal Data: For internal business use only.'),\n",
       " Document(metadata={'source': 'COMPANY POLICY HANDBOOK.txt'}, page_content='Internal Data: For internal business use only.\\n\\nConfidential Data: Restricted to authorized personnel.\\n\\nHighly Confidential Data: Includes financial records, customer details, and trade secrets.\\n\\n5.3 Data Handling and Storage'),\n",
       " Document(metadata={'source': 'COMPANY POLICY HANDBOOK.txt'}, page_content='5.3 Data Handling and Storage\\n\\nAll digital data must be stored on secure servers with access controls. Physical documents containing personal or confidential information must be locked when not in use. Employees must not transfer data to unauthorized third parties or cloud platforms without permission.\\n\\n5.4 Data Subject Rights'),\n",
       " Document(metadata={'source': 'COMPANY POLICY HANDBOOK.txt'}, page_content='5.4 Data Subject Rights\\n\\nEmployees and customers have the right to access, correct, or delete their personal data. Requests must be submitted in writing to the Data Protection Officer (DPO).\\n\\n5.5 Data Breach Response'),\n",
       " Document(metadata={'source': 'COMPANY POLICY HANDBOOK.txt'}, page_content='5.5 Data Breach Response\\n\\nIn case of a data breach, employees must immediately report it to the IT Security Team. A formal incident response procedure will be initiated, including containment, assessment, and notification of affected parties.\\n\\n6. INFORMATION TECHNOLOGY (IT) USAGE POLICY\\n6.1 Acceptable Use'),\n",
       " Document(metadata={'source': 'COMPANY POLICY HANDBOOK.txt'}, page_content='Company IT resources, including email, internet, and software systems, must be used solely for business purposes. Personal use should be limited and must not interfere with productivity or violate ethical standards.\\n\\n6.2 Email and Communication'),\n",
       " Document(metadata={'source': 'COMPANY POLICY HANDBOOK.txt'}, page_content='6.2 Email and Communication\\n\\nEmployees must use company-provided email accounts for official communication. Sending offensive, discriminatory, or spam messages through company email is prohibited.\\n\\n6.3 Software Licensing\\n\\nOnly licensed and approved software may be installed on company systems. Unauthorized installation of programs or external applications is strictly forbidden.'),\n",
       " Document(metadata={'source': 'COMPANY POLICY HANDBOOK.txt'}, page_content='6.4 Monitoring and Logging\\n\\nThe company reserves the right to monitor IT usage, including email traffic and network activity, to ensure security and compliance. Employees are advised that there should be no expectation of privacy when using company systems.\\n\\n7. CYBERSECURITY AND ACCESS CONTROL\\n7.1 Password Management'),\n",
       " Document(metadata={'source': 'COMPANY POLICY HANDBOOK.txt'}, page_content='Passwords must be at least 10 characters long and contain a combination of letters, numbers, and symbols. Passwords should not be shared, reused, or written down.\\n\\n7.2 Device Security\\n\\nAll company laptops, phones, and tablets must be password-protected and encrypted. Lost or stolen devices must be reported immediately.\\n\\n7.3 Network Security'),\n",
       " Document(metadata={'source': 'COMPANY POLICY HANDBOOK.txt'}, page_content='7.3 Network Security\\n\\nEmployees must connect only to secure Wi-Fi networks. VPN usage is mandatory for remote connections. Phishing awareness and regular cybersecurity training are mandatory.\\n\\n7.4 Access Control\\n\\nAccess to systems is granted based on the principle of least privilege. When an employee changes roles or exits, their access rights must be updated or revoked.'),\n",
       " Document(metadata={'source': 'COMPANY POLICY HANDBOOK.txt'}, page_content='8. REMOTE AND HYBRID WORK POLICY\\n\\nRemote and hybrid work models are designed to promote flexibility while maintaining productivity, collaboration, and data security.\\n\\nEmployees working remotely must:\\n\\nMaintain a quiet and professional work environment.\\n\\nUse company-approved devices and VPN connections.\\n\\nComply with working hour expectations.\\n\\nAttend all virtual meetings punctually.'),\n",
       " Document(metadata={'source': 'COMPANY POLICY HANDBOOK.txt'}, page_content='Attend all virtual meetings punctually.\\n\\nManagers are responsible for monitoring deliverables and ensuring effective team coordination. Periodic in-office attendance may be required for key meetings or training.\\n\\n9. HEALTH, SAFETY, AND ENVIRONMENT (HSE)\\n9.1 General Commitment'),\n",
       " Document(metadata={'source': 'COMPANY POLICY HANDBOOK.txt'}, page_content='The company prioritizes the health and safety of all personnel. Employees must comply with all occupational safety procedures and promptly report hazards or incidents.\\n\\n9.2 Emergency Procedures\\n\\nEmergency exits must remain unobstructed. Employees should familiarize themselves with evacuation routes, first aid kits, and fire extinguishers. Fire drills are conducted quarterly.'),\n",
       " Document(metadata={'source': 'COMPANY POLICY HANDBOOK.txt'}, page_content='9.3 Ergonomics and Workplace Safety\\n\\nEmployees must maintain ergonomic workstations to prevent strain and injury. The company may provide ergonomic assessments upon request.\\n\\n9.4 Environmental Responsibility\\n\\nEmployees are encouraged to minimize energy use, recycle materials, and adopt environmentally friendly practices in daily operations.'),\n",
       " Document(metadata={'source': 'COMPANY POLICY HANDBOOK.txt'}, page_content='10. DISCIPLINARY PROCEDURES AND GRIEVANCE REDRESSAL\\n10.1 Disciplinary Process\\n\\nViolations of company policies may result in verbal warnings, written warnings, suspension, or termination, depending on severity.\\nExamples of misconduct include:\\n\\nTheft or fraud\\n\\nHarassment or discrimination\\n\\nBreach of confidentiality\\n\\nMisuse of IT systems\\n\\nUnethical or illegal activities\\n\\n10.2 Reporting Misconduct'),\n",
       " Document(metadata={'source': 'COMPANY POLICY HANDBOOK.txt'}, page_content='10.2 Reporting Misconduct\\n\\nEmployees may report unethical or illegal activities confidentially to the Compliance Office or via the Whistleblower Hotline. Retaliation against whistleblowers is strictly prohibited.\\n\\n10.3 Grievance Procedure'),\n",
       " Document(metadata={'source': 'COMPANY POLICY HANDBOOK.txt'}, page_content='10.3 Grievance Procedure\\n\\nEmployees with workplace grievances should first discuss the issue with their supervisor. If unresolved, they may escalate to HR. Formal complaints are documented and investigated impartially.\\n\\n10.4 Appeal Rights\\n\\nEmployees have the right to appeal disciplinary actions. Appeals must be submitted in writing within seven business days of the decision.'),\n",
       " Document(metadata={'source': 'COMPANY POLICY HANDBOOK.txt'}, page_content='11. POLICY ENFORCEMENT AND AMENDMENTS\\n\\nThis handbook is reviewed annually by HR, Legal, and IT departments. Updates are communicated through internal announcements. All employees are deemed to have accepted new policies upon continued employment.')]"
      ]
     },
     "execution_count": 5,
     "metadata": {},
     "output_type": "execute_result"
    }
   ],
   "source": [
    "from langchain_text_splitters import RecursiveCharacterTextSplitter\n",
    "text_splitter=RecursiveCharacterTextSplitter(chunk_size=400,chunk_overlap=50)\n",
    "final_documents=text_splitter.split_documents(docs)\n",
    "final_documents"
   ]
  },
  {
   "cell_type": "code",
   "execution_count": 6,
   "id": "0cdfe528",
   "metadata": {},
   "outputs": [],
   "source": [
    "#Vecctor Embeddings:\n",
    "from langchain_huggingface import HuggingFaceEmbeddings\n",
    "\n",
    "embeddings = HuggingFaceEmbeddings(model_name=\"sentence-transformers/all-mpnet-base-v2\")"
   ]
  },
  {
   "cell_type": "code",
   "execution_count": null,
   "id": "fe7d5ec2",
   "metadata": {},
   "outputs": [],
   "source": []
  },
  {
   "cell_type": "code",
   "execution_count": 7,
   "id": "fa3d269a",
   "metadata": {},
   "outputs": [],
   "source": [
    "\n",
    "from langchain_community.vectorstores import FAISS\n",
    "vector_store = FAISS.from_documents(\n",
    "    final_documents,  # list of Document objects\n",
    "    embeddings,\n",
    ")\n"
   ]
  },
  {
   "cell_type": "code",
   "execution_count": 8,
   "id": "cc5a2a05",
   "metadata": {},
   "outputs": [],
   "source": [
    "vector_store.save_local(\"faiss_index\")\n",
    "\n",
    "# Later reload\n",
    "vector_store = FAISS.load_local(\n",
    "    \"faiss_index\",\n",
    "    embeddings,\n",
    "    allow_dangerous_deserialization=True\n",
    ")\n"
   ]
  },
  {
   "cell_type": "code",
   "execution_count": 10,
   "id": "a8c284f7",
   "metadata": {},
   "outputs": [
    {
     "name": "stdout",
     "output_type": "stream",
     "text": [
      "**************\n",
      "Sick Leave: As per medical certificate and labor laws.\n",
      "\n",
      "Maternity/Paternity Leave: Provided according to statutory regulations.\n",
      "\n",
      "Emergency Leave: Subject to managerial approval.\n",
      "\n",
      "All leave requests must be submitted through the HR portal and approved by supervisors.\n",
      "\n",
      "5. DATA PROTECTION AND PRIVACY POLICY\n",
      "5.1 Purpose\n",
      "**************\n",
      "4.2 Attendance and Absenteeism\n",
      "\n",
      "Attendance records are maintained through the HR management system. Unauthorized absence for more than three consecutive days may be considered job abandonment. Repeated tardiness may result in disciplinary action.\n",
      "\n",
      "4.3 Leave Policies\n",
      "\n",
      "Employees are entitled to various types of leave:\n",
      "\n",
      "Annual Leave: Minimum of 20 working days per year.\n"
     ]
    }
   ],
   "source": [
    "# Retriever\n",
    "retriever = vector_store.as_retriever(search_kwargs={\"k\": 2})\n",
    "docs = retriever.invoke(\"What is the leave policy?\")\n",
    "for d in docs:\n",
    "    print(\"**************\")\n",
    "    print(d.page_content)"
   ]
  },
  {
   "cell_type": "code",
   "execution_count": 11,
   "id": "e6ff0119",
   "metadata": {},
   "outputs": [],
   "source": [
    "import os\n",
    "from dotenv import load_dotenv\n",
    "load_dotenv()\n",
    "os.environ[\"OPENAI_API_KEY\"]=os.getenv(\"OPENAI_API_KEY\")\n"
   ]
  },
  {
   "cell_type": "code",
   "execution_count": 15,
   "id": "2b9a3fe7",
   "metadata": {},
   "outputs": [
    {
     "ename": "ModuleNotFoundError",
     "evalue": "No module named 'langchain.chains'",
     "output_type": "error",
     "traceback": [
      "\u001b[1;31m---------------------------------------------------------------------------\u001b[0m",
      "\u001b[1;31mModuleNotFoundError\u001b[0m                       Traceback (most recent call last)",
      "Cell \u001b[1;32mIn[15], line 4\u001b[0m\n\u001b[0;32m      2\u001b[0m \u001b[38;5;28;01mfrom\u001b[39;00m\u001b[38;5;250m \u001b[39m\u001b[38;5;21;01mlangchain_openai\u001b[39;00m\u001b[38;5;250m \u001b[39m\u001b[38;5;28;01mimport\u001b[39;00m ChatOpenAI\n\u001b[0;32m      3\u001b[0m \u001b[38;5;66;03m# document-combining chain\u001b[39;00m\n\u001b[1;32m----> 4\u001b[0m \u001b[38;5;28;01mfrom\u001b[39;00m\u001b[38;5;250m \u001b[39m\u001b[38;5;21;01mlangchain\u001b[39;00m\u001b[38;5;21;01m.\u001b[39;00m\u001b[38;5;21;01mchains\u001b[39;00m\u001b[38;5;21;01m.\u001b[39;00m\u001b[38;5;21;01mcombine_documents\u001b[39;00m\u001b[38;5;250m \u001b[39m\u001b[38;5;28;01mimport\u001b[39;00m create_stuff_documents_chain\n\u001b[0;32m      5\u001b[0m \u001b[38;5;28;01mfrom\u001b[39;00m\u001b[38;5;250m \u001b[39m\u001b[38;5;21;01mlangchain\u001b[39;00m\u001b[38;5;21;01m.\u001b[39;00m\u001b[38;5;21;01mchains\u001b[39;00m\u001b[38;5;21;01m.\u001b[39;00m\u001b[38;5;21;01mcombine_documents\u001b[39;00m\u001b[38;5;250m \u001b[39m\u001b[38;5;28;01mimport\u001b[39;00m create_stuff_documents_chain\n\u001b[0;32m      6\u001b[0m \u001b[38;5;66;03m# retrieval-augmented generation (RAG) chain\u001b[39;00m\n",
      "\u001b[1;31mModuleNotFoundError\u001b[0m: No module named 'langchain.chains'"
     ]
    }
   ],
   "source": [
    "# Chain (create_retrieval_chain)\n",
    "from langchain_openai import ChatOpenAI\n",
    "# document-combining chain\n",
    "from langchain.chains.combine_documents import create_stuff_documents_chain\n",
    "from langchain.chains.combine_documents import create_stuff_documents_chain\n",
    "# retrieval-augmented generation (RAG) chain\n",
    "from langchain.chains import create_retrieval_chain\n",
    "\n",
    "\n",
    "llm = ChatOpenAI(temperature=0, model='gpt-3.5-turbo')\n",
    "# simple prompt: default prompt from hub can be used, keep it concise here\n",
    "doc_chain = create_stuff_documents_chain(llm)\n",
    "retrieval_chain = create_retrieval_chain(retriever, doc_chain)\n",
    "\n",
    "\n",
    "resp = retrieval_chain.invoke({'input': 'How many paid leaves do employees get per year?'})\n",
    "print(resp['answer'])"
   ]
  },
  {
   "cell_type": "markdown",
   "id": "b708c552",
   "metadata": {},
   "source": [
    "Retriever → fetches relevant information from your knowledge base.\n",
    "\n",
    "Doc chain → organizes that information into a prompt.\n",
    "\n",
    "LLM → produces an answer grounded in context.\n",
    "\n",
    "This allows you to answer questions on large document collections without feeding all documents to the LLM"
   ]
  },
  {
   "cell_type": "code",
   "execution_count": null,
   "id": "e8e4a89e",
   "metadata": {},
   "outputs": [],
   "source": []
  }
 ],
 "metadata": {
  "kernelspec": {
   "display_name": "Python 3",
   "language": "python",
   "name": "python3"
  },
  "language_info": {
   "codemirror_mode": {
    "name": "ipython",
    "version": 3
   },
   "file_extension": ".py",
   "mimetype": "text/x-python",
   "name": "python",
   "nbconvert_exporter": "python",
   "pygments_lexer": "ipython3",
   "version": "3.10.0"
  }
 },
 "nbformat": 4,
 "nbformat_minor": 5
}
