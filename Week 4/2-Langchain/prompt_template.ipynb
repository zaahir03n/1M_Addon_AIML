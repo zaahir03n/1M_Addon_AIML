{
 "cells": [
  {
   "cell_type": "markdown",
   "id": "5205919e",
   "metadata": {},
   "source": [
    "A Prompt Template is a reusable template for text prompts that you feed into an LLM.\n",
    "\n",
    "* It allows you to insert dynamic content (variables) into your prompt.\n",
    "* Ensures consistent formatting across queries.\n",
    "* makes it easy to separate logic from text."
   ]
  },
  {
   "cell_type": "markdown",
   "id": "4c568066",
   "metadata": {},
   "source": [
    "Why Prompt Templates?\n",
    "\n",
    "* Avoid rewriting prompts manually for each query.\n",
    "* Reduce errors and hallucinations by structuring input.\n",
    "* Facilitate RAG pipelines where context + query are combined.\n",
    "\n",
    "Example purpose in RAG:\n",
    "* Combine retrieved documents + user question\n",
    "* Feed them into the LLM in a structured format"
   ]
  },
  {
   "cell_type": "markdown",
   "id": "9d78b320",
   "metadata": {},
   "source": []
  },
  {
   "cell_type": "code",
   "execution_count": 2,
   "id": "edcef7bd",
   "metadata": {},
   "outputs": [
    {
     "name": "stderr",
     "output_type": "stream",
     "text": [
      "d:\\ApesAI\\1M_Addon_AIML\\venv\\lib\\site-packages\\tqdm\\auto.py:21: TqdmWarning: IProgress not found. Please update jupyter and ipywidgets. See https://ipywidgets.readthedocs.io/en/stable/user_install.html\n",
      "  from .autonotebook import tqdm as notebook_tqdm\n"
     ]
    },
    {
     "name": "stdout",
     "output_type": "stream",
     "text": [
      "\n",
      "You are a helpful assistant. Use the context below to answer the question.\n",
      "Context:\n",
      "Employees get 30 days of paid leave per year.\n",
      "\n",
      "Question:\n",
      "How many paid leaves do employees get?\n",
      "\n",
      "Answer:\n",
      "\n"
     ]
    }
   ],
   "source": [
    "from langchain_core.prompts import PromptTemplate\n",
    "\n",
    "# Define a template with variables\n",
    "template = \"\"\"\n",
    "You are a helpful assistant. Use the context below to answer the question.\n",
    "Context:\n",
    "{context}\n",
    "\n",
    "Question:\n",
    "{question}\n",
    "\n",
    "Answer:\n",
    "\"\"\"\n",
    "\n",
    "# Create a PromptTemplate object\n",
    "prompt = PromptTemplate(\n",
    "    input_variables=[\"context\", \"question\"],\n",
    "    template=template\n",
    ")\n",
    "\n",
    "# Use the template\n",
    "context_text = \"Employees get 30 days of paid leave per year.\"\n",
    "question_text = \"How many paid leaves do employees get?\"\n",
    "final_prompt = prompt.format(context=context_text, question=question_text)\n",
    "\n",
    "print(final_prompt)\n"
   ]
  },
  {
   "cell_type": "code",
   "execution_count": null,
   "id": "484d6f52",
   "metadata": {},
   "outputs": [],
   "source": [
    "from langchain.chat_models import ChatOpenAI\n",
    "from langchain_core.chains import LLMChain  # note the new import path\n",
    "\n",
    "llm = ChatOpenAI(model=\"gpt-3.5-turbo\", temperature=0)\n",
    "\n",
    "# Wrap the LLM with the prompt template\n",
    "chain = LLMChain(llm=llm, prompt=prompt)\n",
    "\n",
    "response = chain.run({\n",
    "    \"context\": \"Employees get 30 days of paid leave per year.\",\n",
    "    \"question\": \"How many paid leaves do employees get?\"\n",
    "})\n",
    "\n",
    "print(response)\n"
   ]
  },
  {
   "cell_type": "markdown",
   "id": "7280aec2",
   "metadata": {},
   "source": [
    "* PromptTemplate separates prompt design from logic.\n",
    "\n",
    "* Makes RAG pipelines dynamic: you can swap context or questions without rewriting the prompt."
   ]
  },
  {
   "cell_type": "markdown",
   "id": "eceb93a5",
   "metadata": {},
   "source": []
  }
 ],
 "metadata": {
  "kernelspec": {
   "display_name": "Python 3",
   "language": "python",
   "name": "python3"
  },
  "language_info": {
   "codemirror_mode": {
    "name": "ipython",
    "version": 3
   },
   "file_extension": ".py",
   "mimetype": "text/x-python",
   "name": "python",
   "nbconvert_exporter": "python",
   "pygments_lexer": "ipython3",
   "version": "3.10.0"
  }
 },
 "nbformat": 4,
 "nbformat_minor": 5
}
